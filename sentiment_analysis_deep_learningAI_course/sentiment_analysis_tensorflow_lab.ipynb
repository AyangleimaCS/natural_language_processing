{
 "cells": [
  {
   "cell_type": "code",
   "execution_count": 1,
   "id": "53d469f6-84b2-4b17-8e2d-f07432f3739f",
   "metadata": {},
   "outputs": [
    {
     "name": "stdout",
     "output_type": "stream",
     "text": [
      "Imports successful!\n"
     ]
    }
   ],
   "source": [
    "# To silence the TensorFlow warnings, you can use the following code before you import the TensorFlow library.\n",
    "import os\n",
    "os.environ['TF_CPP_MIN_LOG_LEVEL'] = '3'\n",
    "import pandas as pd\n",
    "import numpy as np\n",
    "import tensorflow as tf\n",
    "import tensorflow.keras as keras\n",
    "import tensorflow.keras.layers as layers\n",
    "import re\n",
    "import string\n",
    "print(\"Imports successful!\")"
   ]
  },
  {
   "cell_type": "markdown",
   "id": "97e2758d-f6d6-4fd7-90f0-2a68e939f26a",
   "metadata": {},
   "source": [
    "Dataset : IMDB dataset of 50K movie reviews"
   ]
  },
  {
   "cell_type": "code",
   "execution_count": 2,
   "id": "b194f8d0-4c23-4f48-ae26-1b6f0a8abf1f",
   "metadata": {},
   "outputs": [
    {
     "data": {
      "text/html": [
       "<div>\n",
       "<style scoped>\n",
       "    .dataframe tbody tr th:only-of-type {\n",
       "        vertical-align: middle;\n",
       "    }\n",
       "\n",
       "    .dataframe tbody tr th {\n",
       "        vertical-align: top;\n",
       "    }\n",
       "\n",
       "    .dataframe thead th {\n",
       "        text-align: right;\n",
       "    }\n",
       "</style>\n",
       "<table border=\"1\" class=\"dataframe\">\n",
       "  <thead>\n",
       "    <tr style=\"text-align: right;\">\n",
       "      <th></th>\n",
       "      <th>review</th>\n",
       "      <th>sentiment</th>\n",
       "    </tr>\n",
       "  </thead>\n",
       "  <tbody>\n",
       "    <tr>\n",
       "      <th>0</th>\n",
       "      <td>One of the other reviewers has mentioned that ...</td>\n",
       "      <td>positive</td>\n",
       "    </tr>\n",
       "    <tr>\n",
       "      <th>1</th>\n",
       "      <td>A wonderful little production. &lt;br /&gt;&lt;br /&gt;The...</td>\n",
       "      <td>positive</td>\n",
       "    </tr>\n",
       "    <tr>\n",
       "      <th>2</th>\n",
       "      <td>I thought this was a wonderful way to spend ti...</td>\n",
       "      <td>positive</td>\n",
       "    </tr>\n",
       "    <tr>\n",
       "      <th>3</th>\n",
       "      <td>Basically there's a family where a little boy ...</td>\n",
       "      <td>negative</td>\n",
       "    </tr>\n",
       "    <tr>\n",
       "      <th>4</th>\n",
       "      <td>Petter Mattei's \"Love in the Time of Money\" is...</td>\n",
       "      <td>positive</td>\n",
       "    </tr>\n",
       "    <tr>\n",
       "      <th>...</th>\n",
       "      <td>...</td>\n",
       "      <td>...</td>\n",
       "    </tr>\n",
       "    <tr>\n",
       "      <th>49995</th>\n",
       "      <td>I thought this movie did a down right good job...</td>\n",
       "      <td>positive</td>\n",
       "    </tr>\n",
       "    <tr>\n",
       "      <th>49996</th>\n",
       "      <td>Bad plot, bad dialogue, bad acting, idiotic di...</td>\n",
       "      <td>negative</td>\n",
       "    </tr>\n",
       "    <tr>\n",
       "      <th>49997</th>\n",
       "      <td>I am a Catholic taught in parochial elementary...</td>\n",
       "      <td>negative</td>\n",
       "    </tr>\n",
       "    <tr>\n",
       "      <th>49998</th>\n",
       "      <td>I'm going to have to disagree with the previou...</td>\n",
       "      <td>negative</td>\n",
       "    </tr>\n",
       "    <tr>\n",
       "      <th>49999</th>\n",
       "      <td>No one expects the Star Trek movies to be high...</td>\n",
       "      <td>negative</td>\n",
       "    </tr>\n",
       "  </tbody>\n",
       "</table>\n",
       "<p>50000 rows × 2 columns</p>\n",
       "</div>"
      ],
      "text/plain": [
       "                                                  review sentiment\n",
       "0      One of the other reviewers has mentioned that ...  positive\n",
       "1      A wonderful little production. <br /><br />The...  positive\n",
       "2      I thought this was a wonderful way to spend ti...  positive\n",
       "3      Basically there's a family where a little boy ...  negative\n",
       "4      Petter Mattei's \"Love in the Time of Money\" is...  positive\n",
       "...                                                  ...       ...\n",
       "49995  I thought this movie did a down right good job...  positive\n",
       "49996  Bad plot, bad dialogue, bad acting, idiotic di...  negative\n",
       "49997  I am a Catholic taught in parochial elementary...  negative\n",
       "49998  I'm going to have to disagree with the previou...  negative\n",
       "49999  No one expects the Star Trek movies to be high...  negative\n",
       "\n",
       "[50000 rows x 2 columns]"
      ]
     },
     "execution_count": 2,
     "metadata": {},
     "output_type": "execute_result"
    }
   ],
   "source": [
    "dataset = pd.read_csv('IMDB_Dataset.csv')\n",
    "dataset"
   ]
  },
  {
   "cell_type": "code",
   "execution_count": 3,
   "id": "1e2d8d1c-b0e8-484b-bd42-2feaea7c5c65",
   "metadata": {},
   "outputs": [
    {
     "data": {
      "text/html": [
       "<div>\n",
       "<style scoped>\n",
       "    .dataframe tbody tr th:only-of-type {\n",
       "        vertical-align: middle;\n",
       "    }\n",
       "\n",
       "    .dataframe tbody tr th {\n",
       "        vertical-align: top;\n",
       "    }\n",
       "\n",
       "    .dataframe thead th {\n",
       "        text-align: right;\n",
       "    }\n",
       "</style>\n",
       "<table border=\"1\" class=\"dataframe\">\n",
       "  <thead>\n",
       "    <tr style=\"text-align: right;\">\n",
       "      <th></th>\n",
       "      <th>review</th>\n",
       "      <th>sentiment</th>\n",
       "    </tr>\n",
       "  </thead>\n",
       "  <tbody>\n",
       "    <tr>\n",
       "      <th>0</th>\n",
       "      <td>One of the other reviewers has mentioned that ...</td>\n",
       "      <td>positive</td>\n",
       "    </tr>\n",
       "    <tr>\n",
       "      <th>1</th>\n",
       "      <td>A wonderful little production br br The filmin...</td>\n",
       "      <td>positive</td>\n",
       "    </tr>\n",
       "    <tr>\n",
       "      <th>2</th>\n",
       "      <td>I thought this was a wonderful way to spend ti...</td>\n",
       "      <td>positive</td>\n",
       "    </tr>\n",
       "    <tr>\n",
       "      <th>3</th>\n",
       "      <td>Basically theres a family where a little boy J...</td>\n",
       "      <td>negative</td>\n",
       "    </tr>\n",
       "    <tr>\n",
       "      <th>4</th>\n",
       "      <td>Petter Matteis Love in the Time of Money is a ...</td>\n",
       "      <td>positive</td>\n",
       "    </tr>\n",
       "  </tbody>\n",
       "</table>\n",
       "</div>"
      ],
      "text/plain": [
       "                                              review sentiment\n",
       "0  One of the other reviewers has mentioned that ...  positive\n",
       "1  A wonderful little production br br The filmin...  positive\n",
       "2  I thought this was a wonderful way to spend ti...  positive\n",
       "3  Basically theres a family where a little boy J...  negative\n",
       "4  Petter Matteis Love in the Time of Money is a ...  positive"
      ]
     },
     "execution_count": 3,
     "metadata": {},
     "output_type": "execute_result"
    }
   ],
   "source": [
    "dataset['review'] = dataset['review'].str.replace(f\"[{string.punctuation}]\", \"\", regex=True)\n",
    "dataset.head()"
   ]
  },
  {
   "cell_type": "code",
   "execution_count": 4,
   "id": "bdb20d72-8ca2-4bb0-a9cf-9955cc67b70e",
   "metadata": {},
   "outputs": [
    {
     "data": {
      "text/html": [
       "<div>\n",
       "<style scoped>\n",
       "    .dataframe tbody tr th:only-of-type {\n",
       "        vertical-align: middle;\n",
       "    }\n",
       "\n",
       "    .dataframe tbody tr th {\n",
       "        vertical-align: top;\n",
       "    }\n",
       "\n",
       "    .dataframe thead th {\n",
       "        text-align: right;\n",
       "    }\n",
       "</style>\n",
       "<table border=\"1\" class=\"dataframe\">\n",
       "  <thead>\n",
       "    <tr style=\"text-align: right;\">\n",
       "      <th></th>\n",
       "      <th>review</th>\n",
       "      <th>sentiment</th>\n",
       "    </tr>\n",
       "  </thead>\n",
       "  <tbody>\n",
       "    <tr>\n",
       "      <th>0</th>\n",
       "      <td>one of the other reviewers has mentioned that ...</td>\n",
       "      <td>positive</td>\n",
       "    </tr>\n",
       "    <tr>\n",
       "      <th>1</th>\n",
       "      <td>a wonderful little production br br the filmin...</td>\n",
       "      <td>positive</td>\n",
       "    </tr>\n",
       "    <tr>\n",
       "      <th>2</th>\n",
       "      <td>i thought this was a wonderful way to spend ti...</td>\n",
       "      <td>positive</td>\n",
       "    </tr>\n",
       "    <tr>\n",
       "      <th>3</th>\n",
       "      <td>basically theres a family where a little boy j...</td>\n",
       "      <td>negative</td>\n",
       "    </tr>\n",
       "    <tr>\n",
       "      <th>4</th>\n",
       "      <td>petter matteis love in the time of money is a ...</td>\n",
       "      <td>positive</td>\n",
       "    </tr>\n",
       "  </tbody>\n",
       "</table>\n",
       "</div>"
      ],
      "text/plain": [
       "                                              review sentiment\n",
       "0  one of the other reviewers has mentioned that ...  positive\n",
       "1  a wonderful little production br br the filmin...  positive\n",
       "2  i thought this was a wonderful way to spend ti...  positive\n",
       "3  basically theres a family where a little boy j...  negative\n",
       "4  petter matteis love in the time of money is a ...  positive"
      ]
     },
     "execution_count": 4,
     "metadata": {},
     "output_type": "execute_result"
    }
   ],
   "source": [
    "dataset['review'] = dataset['review'].apply(lambda row: row.lower())\n",
    "dataset.head()"
   ]
  },
  {
   "cell_type": "markdown",
   "id": "fc9b12ba-19d3-4aec-ac12-0edf645aa9e3",
   "metadata": {},
   "source": [
    "Preprocess the input"
   ]
  },
  {
   "cell_type": "code",
   "execution_count": 5,
   "id": "04ec62c4-8622-4a60-86f8-6b862a3cd835",
   "metadata": {
    "scrolled": true
   },
   "outputs": [],
   "source": [
    "word_index = tf.keras.datasets.imdb.get_word_index(\n",
    "    path='imdb_word_index.json'\n",
    ")\n"
   ]
  },
  {
   "cell_type": "code",
   "execution_count": 6,
   "id": "52edfbc4-e3ed-4d73-a22d-51f44449c6af",
   "metadata": {},
   "outputs": [
    {
     "name": "stdout",
     "output_type": "stream",
     "text": [
      "88584\n"
     ]
    }
   ],
   "source": [
    "print(len(word_index))\n",
    "word_index['<PAD>'] = 0\n",
    "word_index['<START>'] =1 \n",
    "word_index['UNK>'] = 2\n",
    "word_index['<UNUSED>'] = 3 \n",
    "word_index['<br />'] = 3 "
   ]
  },
  {
   "cell_type": "markdown",
   "id": "f8205cc9-74e4-4bfa-ab34-8cdb64d659b4",
   "metadata": {},
   "source": [
    "Map each word to an integer"
   ]
  },
  {
   "cell_type": "code",
   "execution_count": 7,
   "id": "2ff41bba-4f9d-4c12-b744-ccba55f85329",
   "metadata": {},
   "outputs": [],
   "source": [
    "next_available_index = max(word_index.values()) + 1  # Start from the next available index\n",
    "\n",
    "def review_encoder(text):\n",
    "    global next_available_index  # Use the global variable to keep track of the index\n",
    "    arr = []\n",
    "    for word in text:\n",
    "        if word in word_index:\n",
    "            arr.append(word_index[word])  # Use the existing index\n",
    "        else:\n",
    "            # If the word is missing, assign a new index and update word_index\n",
    "            word_index[word] = next_available_index\n",
    "            arr.append(next_available_index)\n",
    "            next_available_index += 1  # Increment the available index for future missing words\n",
    "    return arr"
   ]
  },
  {
   "cell_type": "markdown",
   "id": "ac42e819-3ccd-486d-a4bf-db918d1e8f68",
   "metadata": {},
   "source": [
    "SPLIT TRAIN AND TEST DATA FROM RAW DATASET"
   ]
  },
  {
   "cell_type": "code",
   "execution_count": 8,
   "id": "91bf5e44-16a7-498a-a2fa-d154ac938a89",
   "metadata": {},
   "outputs": [
    {
     "name": "stdout",
     "output_type": "stream",
     "text": [
      "20 % is test data (10000, 2)\n",
      "80 % is train data (40000, 2)\n",
      "train_data shape: (40000,)\n",
      "train_labels shape: (40000,)\n"
     ]
    }
   ],
   "source": [
    "test_imdb = dataset.loc[0:9999, :]\n",
    "print('20 % is test data', test_imdb.shape)\n",
    "train_imdb = dataset.loc[10000:, :]\n",
    "print('80 % is train data', train_imdb.shape)\n",
    "\n",
    "train_data, train_labels = train_imdb['review'], train_imdb['sentiment']\n",
    "test_data, test_labels = test_imdb['review'], test_imdb['sentiment']\n",
    "\n",
    "print('train_data shape:', train_data.shape)\n",
    "print('train_labels shape:', train_labels.shape)"
   ]
  },
  {
   "cell_type": "code",
   "execution_count": 9,
   "id": "d91f0dff-d35e-4cf3-9484-6170c5d6dbcc",
   "metadata": {},
   "outputs": [
    {
     "data": {
      "text/plain": [
       "' while sporadically engrossing including a few effectively tender moments and humorous the sledgehammerobvious satire homecoming hinges on comes off as forced and ultimately unfulfilling with material like this timing is everything michael moore knew to release fahrenheit 911 before the 2004 elections and the real tragedy of dantes film is that it didnt come out 2 years ago when its message would have carried an energy that would have energized the dissidents further in 2006 mockery of the wellsettled bush administration hardly seems as controversially compelling or imperiled as it did thenbr br frankly anyone that could be convinced of anything by a ham fisted zombie flick has questionable intelligence br br and if you didnt notice michael moore didnt exactly help to defeat bushbr br there was nothing engrossing about this film i just felt disgust at how blatant and frankly stupid the film was it was painful to watch if you are going to do something like this you need a bit of wit sadly this has none a poorly done satire actually has the opposite of its intended effect as they say with friends like these who needs enemies'"
      ]
     },
     "execution_count": 9,
     "metadata": {},
     "output_type": "execute_result"
    }
   ],
   "source": [
    "len(train_data[10000])\n",
    "train_data[10000]\n",
    " "
   ]
  },
  {
   "cell_type": "code",
   "execution_count": 10,
   "id": "86413047-5297-4d5f-be55-1def212c9ab3",
   "metadata": {},
   "outputs": [
    {
     "data": {
      "text/plain": [
       "[]"
      ]
     },
     "execution_count": 10,
     "metadata": {},
     "output_type": "execute_result"
    }
   ],
   "source": [
    "train_data = train_data.apply(lambda row: row.split())\n",
    "test_data = test_data.apply(lambda row: row.split())\n",
    "[]"
   ]
  },
  {
   "cell_type": "markdown",
   "id": "bc65c0f6-19c0-4474-ae27-5a9f1f29b228",
   "metadata": {},
   "source": [
    "CONVERT TEXT DATA TO INTEGER"
   ]
  },
  {
   "cell_type": "code",
   "execution_count": 11,
   "id": "5991041a-9989-4f0d-bfcb-539fd1d76684",
   "metadata": {},
   "outputs": [
    {
     "data": {
      "text/plain": [
       "0       [28, 4, 1, 82, 1986, 44, 1043, 12, 100, 146, 4...\n",
       "1       [3, 386, 114, 362, 7, 7, 1, 1420, 3117, 6, 52,...\n",
       "2       [10, 194, 11, 13, 3, 386, 93, 5, 1139, 55, 20,...\n",
       "3       [688, 21137, 3, 220, 118, 3, 114, 427, 3270, 1...\n",
       "4       [53758, 105608, 116, 8, 1, 55, 4, 275, 6, 3, 2...\n",
       "                              ...                        \n",
       "9995    [250, 438, 17, 41, 3015, 1121, 2542, 2803, 342...\n",
       "9996    [199, 69, 3, 986, 86, 67, 256, 132, 12, 11, 6,...\n",
       "9997    [11, 17, 6, 3, 75, 17, 18, 100, 146, 32, 2200,...\n",
       "9998    [11, 6, 3, 17, 12, 13, 239, 90, 5, 2833, 1, 65...\n",
       "9999    [11210, 19, 41, 6477, 284, 1, 1593, 2, 677, 15...\n",
       "Name: review, Length: 10000, dtype: object"
      ]
     },
     "execution_count": 11,
     "metadata": {},
     "output_type": "execute_result"
    }
   ],
   "source": [
    "train_data = train_data.apply(review_encoder)\n",
    "test_data = test_data.apply(review_encoder)\n",
    "test_data"
   ]
  },
  {
   "cell_type": "markdown",
   "id": "849bf512-6698-4c13-b740-fcbbcc217aa7",
   "metadata": {},
   "source": [
    "Encode sentiments"
   ]
  },
  {
   "cell_type": "code",
   "execution_count": 12,
   "id": "63aeda0d-029d-4944-97bd-dbf4a2ade083",
   "metadata": {},
   "outputs": [],
   "source": [
    "def encode_sentiments(label):\n",
    "    if label =='positive':\n",
    "        return 1\n",
    "    else:\n",
    "        return 0\n",
    "train_labels = train_labels.apply(encode_sentiments)\n",
    "test_labels = test_labels.apply(encode_sentiments)"
   ]
  },
  {
   "cell_type": "code",
   "execution_count": 13,
   "id": "578fc7f4-ee73-45e2-8a31-f2e162913ea1",
   "metadata": {},
   "outputs": [],
   "source": [
    "train_data = tf.keras.preprocessing.sequence.pad_sequences(train_data, value=word_index['<PAD>'], padding='post', maxlen=500)\n",
    "test_data = tf.keras.preprocessing.sequence.pad_sequences(test_data, value=word_index['<PAD>'], padding='post', maxlen=500)"
   ]
  },
  {
   "cell_type": "markdown",
   "id": "8f07da97-672c-4106-9b5d-44834fe487c2",
   "metadata": {},
   "source": [
    "Till now texts are converted to integers but semantics is not applied yet. Eg: beautiful and pretty are similar in unknown till now."
   ]
  },
  {
   "cell_type": "markdown",
   "id": "1cfa9b19-590a-438a-995b-c727d8565149",
   "metadata": {},
   "source": [
    "The movie was awesome:After word embeddings:\n",
    "The : [1.2,1.3,1,5,...]\n",
    "movie: [3.1,2.2,3.1,...]\n",
    "was:[1.1,2.2,3.1,...]\n",
    "awesome:[1.1,1.2,2.1,...]\n"
   ]
  },
  {
   "cell_type": "code",
   "execution_count": 18,
   "id": "7b1e07dc-c267-4a3b-9153-92a9318b128e",
   "metadata": {},
   "outputs": [],
   "source": [
    "model = keras.Sequential([tf.keras.layers.Embedding(len(word_index), 16, input_length = 500),\n",
    "                tf.keras.layers.GlobalAveragePooling1D(),\n",
    "                tf.keras.layers.Dense(16, activation='relu'),\n",
    "                tf.keras.layers.Dense(1, activation='sigmoid')])"
   ]
  },
  {
   "cell_type": "code",
   "execution_count": 19,
   "id": "955c73fc-bc79-4d41-8f1b-804a8b64a7e8",
   "metadata": {},
   "outputs": [],
   "source": [
    "model.compile(optimizer='adam',\n",
    "             loss='binary_crossentropy', metrics=['accuracy'])"
   ]
  },
  {
   "cell_type": "code",
   "execution_count": 20,
   "id": "4274de32-faba-41e7-88eb-c22b8d73b4fb",
   "metadata": {},
   "outputs": [
    {
     "name": "stdout",
     "output_type": "stream",
     "text": [
      "Epoch 1/30\n",
      "79/79 [==============================] - 5s 50ms/step - loss: 0.6901 - accuracy: 0.5943 - val_loss: 0.6836 - val_accuracy: 0.7304\n",
      "Epoch 2/30\n",
      "79/79 [==============================] - 3s 43ms/step - loss: 0.6665 - accuracy: 0.7479 - val_loss: 0.6431 - val_accuracy: 0.7435\n",
      "Epoch 3/30\n",
      "79/79 [==============================] - 3s 40ms/step - loss: 0.6048 - accuracy: 0.7857 - val_loss: 0.5667 - val_accuracy: 0.7926\n",
      "Epoch 4/30\n",
      "79/79 [==============================] - 4s 46ms/step - loss: 0.5185 - accuracy: 0.8299 - val_loss: 0.4844 - val_accuracy: 0.8348\n",
      "Epoch 5/30\n",
      "79/79 [==============================] - 5s 62ms/step - loss: 0.4356 - accuracy: 0.8589 - val_loss: 0.4169 - val_accuracy: 0.8531\n",
      "Epoch 6/30\n",
      "79/79 [==============================] - 4s 55ms/step - loss: 0.3695 - accuracy: 0.8798 - val_loss: 0.3676 - val_accuracy: 0.8716\n",
      "Epoch 7/30\n",
      "79/79 [==============================] - 4s 54ms/step - loss: 0.3206 - accuracy: 0.8947 - val_loss: 0.3334 - val_accuracy: 0.8811\n",
      "Epoch 8/30\n",
      "79/79 [==============================] - 4s 54ms/step - loss: 0.2839 - accuracy: 0.9050 - val_loss: 0.3095 - val_accuracy: 0.8889\n",
      "Epoch 9/30\n",
      "79/79 [==============================] - 4s 57ms/step - loss: 0.2547 - accuracy: 0.9155 - val_loss: 0.2938 - val_accuracy: 0.8905\n",
      "Epoch 10/30\n",
      "79/79 [==============================] - 5s 58ms/step - loss: 0.2307 - accuracy: 0.9233 - val_loss: 0.2800 - val_accuracy: 0.8952\n",
      "Epoch 11/30\n",
      "79/79 [==============================] - 3s 40ms/step - loss: 0.2103 - accuracy: 0.9313 - val_loss: 0.2703 - val_accuracy: 0.8986\n",
      "Epoch 12/30\n",
      "79/79 [==============================] - 4s 47ms/step - loss: 0.1928 - accuracy: 0.9375 - val_loss: 0.2607 - val_accuracy: 0.9002\n",
      "Epoch 13/30\n",
      "79/79 [==============================] - 4s 47ms/step - loss: 0.1770 - accuracy: 0.9432 - val_loss: 0.2536 - val_accuracy: 0.9028\n",
      "Epoch 14/30\n",
      "79/79 [==============================] - 4s 55ms/step - loss: 0.1632 - accuracy: 0.9471 - val_loss: 0.2497 - val_accuracy: 0.9030\n",
      "Epoch 15/30\n",
      "79/79 [==============================] - 5s 61ms/step - loss: 0.1509 - accuracy: 0.9520 - val_loss: 0.2461 - val_accuracy: 0.9034\n",
      "Epoch 16/30\n",
      "79/79 [==============================] - 5s 60ms/step - loss: 0.1401 - accuracy: 0.9563 - val_loss: 0.2456 - val_accuracy: 0.9044\n",
      "Epoch 17/30\n",
      "79/79 [==============================] - 5s 60ms/step - loss: 0.1300 - accuracy: 0.9594 - val_loss: 0.2437 - val_accuracy: 0.9052\n",
      "Epoch 18/30\n",
      "79/79 [==============================] - 5s 61ms/step - loss: 0.1201 - accuracy: 0.9640 - val_loss: 0.2402 - val_accuracy: 0.9087\n",
      "Epoch 19/30\n",
      "79/79 [==============================] - 5s 60ms/step - loss: 0.1120 - accuracy: 0.9671 - val_loss: 0.2393 - val_accuracy: 0.9090\n",
      "Epoch 20/30\n",
      "79/79 [==============================] - 5s 65ms/step - loss: 0.1039 - accuracy: 0.9704 - val_loss: 0.2450 - val_accuracy: 0.9067\n",
      "Epoch 21/30\n",
      "79/79 [==============================] - 4s 48ms/step - loss: 0.0973 - accuracy: 0.9717 - val_loss: 0.2414 - val_accuracy: 0.9096\n",
      "Epoch 22/30\n",
      "79/79 [==============================] - 4s 48ms/step - loss: 0.0900 - accuracy: 0.9748 - val_loss: 0.2415 - val_accuracy: 0.9086\n",
      "Epoch 23/30\n",
      "79/79 [==============================] - 5s 61ms/step - loss: 0.0838 - accuracy: 0.9768 - val_loss: 0.2428 - val_accuracy: 0.9087\n",
      "Epoch 24/30\n",
      "79/79 [==============================] - 5s 61ms/step - loss: 0.0779 - accuracy: 0.9791 - val_loss: 0.2469 - val_accuracy: 0.9079\n",
      "Epoch 25/30\n",
      "79/79 [==============================] - 5s 61ms/step - loss: 0.0725 - accuracy: 0.9806 - val_loss: 0.2457 - val_accuracy: 0.9081\n",
      "Epoch 26/30\n",
      "79/79 [==============================] - 4s 53ms/step - loss: 0.0676 - accuracy: 0.9825 - val_loss: 0.2487 - val_accuracy: 0.9077\n",
      "Epoch 27/30\n",
      "79/79 [==============================] - 4s 49ms/step - loss: 0.0635 - accuracy: 0.9841 - val_loss: 0.2503 - val_accuracy: 0.9087\n",
      "Epoch 28/30\n",
      "79/79 [==============================] - 5s 62ms/step - loss: 0.0584 - accuracy: 0.9855 - val_loss: 0.2541 - val_accuracy: 0.9080\n",
      "Epoch 29/30\n",
      "79/79 [==============================] - 4s 56ms/step - loss: 0.0545 - accuracy: 0.9872 - val_loss: 0.2573 - val_accuracy: 0.9073\n",
      "Epoch 30/30\n",
      "79/79 [==============================] - 4s 56ms/step - loss: 0.0509 - accuracy: 0.9880 - val_loss: 0.2596 - val_accuracy: 0.9074\n"
     ]
    }
   ],
   "source": [
    "history = model.fit(train_data, train_labels, epochs=30, batch_size=512, validation_data=(test_data, test_labels))"
   ]
  },
  {
   "cell_type": "code",
   "execution_count": 21,
   "id": "fac7f67e-0531-48e5-9344-ef53f1592bd9",
   "metadata": {},
   "outputs": [
    {
     "name": "stdout",
     "output_type": "stream",
     "text": [
      "313/313 [==============================] - 0s 1ms/step - loss: 0.2596 - accuracy: 0.9074\n"
     ]
    }
   ],
   "source": [
    "loss, accuracy = model.evaluate(test_data, test_labels)"
   ]
  },
  {
   "cell_type": "markdown",
   "id": "cb5d269f-10f1-40af-9286-6b9d6dc7f652",
   "metadata": {},
   "source": [
    "Now, test with a known label whether the model predicts correct sentiment or not"
   ]
  },
  {
   "cell_type": "code",
   "execution_count": 38,
   "id": "826e1cf2-51c3-4084-af98-f9ce18a78a93",
   "metadata": {},
   "outputs": [
    {
     "data": {
      "text/plain": [
       "review       this film cant make up its mind whether its me...\n",
       "sentiment                                             negative\n",
       "Name: 765, dtype: object"
      ]
     },
     "execution_count": 38,
     "metadata": {},
     "output_type": "execute_result"
    }
   ],
   "source": [
    "rand_index = np.random.randint(1, 1000)\n",
    "user_review = test_imdb.loc[rand_index]\n",
    "user_review"
   ]
  },
  {
   "cell_type": "code",
   "execution_count": 39,
   "id": "1612d5d6-2827-43b9-a78b-a75234b22089",
   "metadata": {},
   "outputs": [
    {
     "name": "stdout",
     "output_type": "stream",
     "text": [
      "1/1 [==============================] - 0s 41ms/step\n",
      "Negative sentiment\n"
     ]
    }
   ],
   "source": [
    "user_review = test_data[rand_index]\n",
    "user_review = np.array([user_review])\n",
    "if (model.predict(user_review) > 0.5).astype(\"int32\"):\n",
    "    print('Positive sentiment')\n",
    "else:\n",
    "    print('Negative sentiment')"
   ]
  },
  {
   "cell_type": "code",
   "execution_count": null,
   "id": "c53230f5-e463-47f8-bf64-1ff895cc861a",
   "metadata": {},
   "outputs": [],
   "source": []
  },
  {
   "cell_type": "code",
   "execution_count": null,
   "id": "d7f9d2da-5f39-41ae-b2c8-7034f5e54500",
   "metadata": {},
   "outputs": [],
   "source": []
  },
  {
   "cell_type": "code",
   "execution_count": null,
   "id": "6e197cba-03d6-4ece-89d3-a523f2c1a61e",
   "metadata": {},
   "outputs": [],
   "source": []
  }
 ],
 "metadata": {
  "kernelspec": {
   "display_name": "Python 3 (ipykernel)",
   "language": "python",
   "name": "python3"
  },
  "language_info": {
   "codemirror_mode": {
    "name": "ipython",
    "version": 3
   },
   "file_extension": ".py",
   "mimetype": "text/x-python",
   "name": "python",
   "nbconvert_exporter": "python",
   "pygments_lexer": "ipython3",
   "version": "3.8.20"
  }
 },
 "nbformat": 4,
 "nbformat_minor": 5
}
