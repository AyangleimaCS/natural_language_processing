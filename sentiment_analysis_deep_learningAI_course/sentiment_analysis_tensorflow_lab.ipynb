{
 "cells": [
  {
   "cell_type": "code",
   "execution_count": 1,
   "id": "53d469f6-84b2-4b17-8e2d-f07432f3739f",
   "metadata": {},
   "outputs": [
    {
     "name": "stdout",
     "output_type": "stream",
     "text": [
      "Imports successful!\n"
     ]
    }
   ],
   "source": [
    "# To silence the TensorFlow warnings, you can use the following code before you import the TensorFlow library.\n",
    "import os\n",
    "os.environ['TF_CPP_MIN_LOG_LEVEL'] = '3'\n",
    "import pandas as pd\n",
    "import numpy as np\n",
    "import tensorflow as tf\n",
    "import tensorflow.keras as keras\n",
    "print(\"Imports successful!\")"
   ]
  },
  {
   "cell_type": "markdown",
   "id": "97e2758d-f6d6-4fd7-90f0-2a68e939f26a",
   "metadata": {},
   "source": [
    "Dataset : IMDB dataset of 50K movie reviews"
   ]
  },
  {
   "cell_type": "code",
   "execution_count": null,
   "id": "b194f8d0-4c23-4f48-ae26-1b6f0a8abf1f",
   "metadata": {},
   "outputs": [],
   "source": [
    "dataset = pd.read_csv('IMDB_Dataset.csv')\n",
    "dataset"
   ]
  },
  {
   "cell_type": "code",
   "execution_count": null,
   "id": "aa4e6edb-ed43-40bc-b506-8ac106423e0e",
   "metadata": {},
   "outputs": [],
   "source": []
  },
  {
   "cell_type": "code",
   "execution_count": null,
   "id": "b0c9fe84-b750-4121-ae1c-80a6df040486",
   "metadata": {},
   "outputs": [],
   "source": []
  },
  {
   "cell_type": "code",
   "execution_count": null,
   "id": "04ec62c4-8622-4a60-86f8-6b862a3cd835",
   "metadata": {},
   "outputs": [],
   "source": []
  }
 ],
 "metadata": {
  "kernelspec": {
   "display_name": "Python 3 (ipykernel)",
   "language": "python",
   "name": "python3"
  },
  "language_info": {
   "codemirror_mode": {
    "name": "ipython",
    "version": 3
   },
   "file_extension": ".py",
   "mimetype": "text/x-python",
   "name": "python",
   "nbconvert_exporter": "python",
   "pygments_lexer": "ipython3",
   "version": "3.8.18"
  }
 },
 "nbformat": 4,
 "nbformat_minor": 5
}
