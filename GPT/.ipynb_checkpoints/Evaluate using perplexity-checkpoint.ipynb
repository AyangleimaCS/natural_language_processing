{
 "cells": [
  {
   "cell_type": "markdown",
   "id": "f9191577-ef8a-4d74-86fb-e38fbac6b7dd",
   "metadata": {},
   "source": [
    "# Lab 2: Evaluating an N-Gram Language Model\n",
    "\n",
    "In this lab, you will evaluate the quality of an n-gram language model using perplexity.\n",
    "\n",
    "We have built several n-gram language models and provided an implementation for computing the probabilities. The implementation includes [Laplace Smoothing](https://en.wikipedia.org/wiki/Additive_smoothing), with assigns some probability to sequences that were never encountered during training.\n",
    "\n",
    "First, review the implementation below to make sure that it makes sense to you."
   ]
  },
  {
   "cell_type": "code",
   "execution_count": 1,
   "id": "49a5ce69-6d09-419f-91f8-d80a1f6e926c",
   "metadata": {},
   "outputs": [],
   "source": [
    "import pickle\n",
    "BOS = '<BOS>'\n",
    "EOS = '<EOS>'\n",
    "OOV = '<OOV>'\n",
    "class NGramLM:\n",
    "    def __init__(self, path, smoothing=0.001, verbose=False):\n",
    "        with open(path, 'rb') as fin:\n",
    "            data = pickle.load(fin)\n",
    "        self.n = data['n']\n",
    "        self.V = set(data['V'])\n",
    "        self.model = data['model']\n",
    "        self.smoothing = smoothing\n",
    "        self.verbose = verbose\n",
    "\n",
    "    def get_prob(self, context, token):\n",
    "        # Take only the n-1 most recent context (Markov Assumption)\n",
    "        context = tuple(context[-self.n+1:])\n",
    "        # Add <BOS> tokens if the context is too short, i.e., it's at the start of the sequence\n",
    "        while len(context) < (self.n-1):\n",
    "            context = (BOS,) + context\n",
    "        # Handle words that were not encountered during the training by replacing them with a special <OOV> token\n",
    "        context = tuple((c if c in self.V else OOV) for c in context)\n",
    "        if token not in self.V:\n",
    "            token = OOV\n",
    "        if context in self.model:\n",
    "            # Compute the probability using a Maximum Likelihood Estimation and Laplace Smoothing\n",
    "            count = self.model[context].get(token, 0)\n",
    "            prob = (count + self.smoothing) / (sum(self.model[context].values()) + self.smoothing * len(self.V))\n",
    "        else:\n",
    "            # Simplified formula if we never encountered this context; the probability of all tokens is uniform\n",
    "            prob = 1 / len(self.V)\n",
    "        # Optional logging\n",
    "        if self.verbose:\n",
    "            print(f'{prob:.4n}', *context, '->', token)\n",
    "        return prob"
   ]
  },
  {
   "cell_type": "code",
   "execution_count": 2,
   "id": "c56b8d57-c925-4ba3-830f-7eac9a81bce2",
   "metadata": {},
   "outputs": [
    {
     "ename": "FileNotFoundError",
     "evalue": "[Errno 2] No such file or directory: 'arthur-conan-doyle.tok.train.n1.pkl'",
     "output_type": "error",
     "traceback": [
      "\u001b[1;31m---------------------------------------------------------------------------\u001b[0m",
      "\u001b[1;31mFileNotFoundError\u001b[0m                         Traceback (most recent call last)",
      "Cell \u001b[1;32mIn[2], line 2\u001b[0m\n\u001b[0;32m      1\u001b[0m \u001b[38;5;66;03m# Load pre-built n-gram languae models\u001b[39;00m\n\u001b[1;32m----> 2\u001b[0m model_unigram \u001b[38;5;241m=\u001b[39m \u001b[43mNGramLM\u001b[49m\u001b[43m(\u001b[49m\u001b[38;5;124;43m'\u001b[39;49m\u001b[38;5;124;43marthur-conan-doyle.tok.train.n1.pkl\u001b[39;49m\u001b[38;5;124;43m'\u001b[39;49m\u001b[43m)\u001b[49m\n\u001b[0;32m      3\u001b[0m model_bigram \u001b[38;5;241m=\u001b[39m NGramLM(\u001b[38;5;124m'\u001b[39m\u001b[38;5;124marthur-conan-doyle.tok.train.n2.pkl\u001b[39m\u001b[38;5;124m'\u001b[39m)\n\u001b[0;32m      4\u001b[0m model_trigram \u001b[38;5;241m=\u001b[39m NGramLM(\u001b[38;5;124m'\u001b[39m\u001b[38;5;124marthur-conan-doyle.tok.train.n3.pkl\u001b[39m\u001b[38;5;124m'\u001b[39m)\n",
      "Cell \u001b[1;32mIn[1], line 7\u001b[0m, in \u001b[0;36mNGramLM.__init__\u001b[1;34m(self, path, smoothing, verbose)\u001b[0m\n\u001b[0;32m      6\u001b[0m \u001b[38;5;28;01mdef\u001b[39;00m \u001b[38;5;21m__init__\u001b[39m(\u001b[38;5;28mself\u001b[39m, path, smoothing\u001b[38;5;241m=\u001b[39m\u001b[38;5;241m0.001\u001b[39m, verbose\u001b[38;5;241m=\u001b[39m\u001b[38;5;28;01mFalse\u001b[39;00m):\n\u001b[1;32m----> 7\u001b[0m     \u001b[38;5;28;01mwith\u001b[39;00m \u001b[38;5;28;43mopen\u001b[39;49m\u001b[43m(\u001b[49m\u001b[43mpath\u001b[49m\u001b[43m,\u001b[49m\u001b[43m \u001b[49m\u001b[38;5;124;43m'\u001b[39;49m\u001b[38;5;124;43mrb\u001b[39;49m\u001b[38;5;124;43m'\u001b[39;49m\u001b[43m)\u001b[49m \u001b[38;5;28;01mas\u001b[39;00m fin:\n\u001b[0;32m      8\u001b[0m         data \u001b[38;5;241m=\u001b[39m pickle\u001b[38;5;241m.\u001b[39mload(fin)\n\u001b[0;32m      9\u001b[0m     \u001b[38;5;28mself\u001b[39m\u001b[38;5;241m.\u001b[39mn \u001b[38;5;241m=\u001b[39m data[\u001b[38;5;124m'\u001b[39m\u001b[38;5;124mn\u001b[39m\u001b[38;5;124m'\u001b[39m]\n",
      "File \u001b[1;32m~\\anaconda2024\\envs\\ml_env_v1\\lib\\site-packages\\IPython\\core\\interactiveshell.py:284\u001b[0m, in \u001b[0;36m_modified_open\u001b[1;34m(file, *args, **kwargs)\u001b[0m\n\u001b[0;32m    277\u001b[0m \u001b[38;5;28;01mif\u001b[39;00m file \u001b[38;5;129;01min\u001b[39;00m {\u001b[38;5;241m0\u001b[39m, \u001b[38;5;241m1\u001b[39m, \u001b[38;5;241m2\u001b[39m}:\n\u001b[0;32m    278\u001b[0m     \u001b[38;5;28;01mraise\u001b[39;00m \u001b[38;5;167;01mValueError\u001b[39;00m(\n\u001b[0;32m    279\u001b[0m         \u001b[38;5;124mf\u001b[39m\u001b[38;5;124m\"\u001b[39m\u001b[38;5;124mIPython won\u001b[39m\u001b[38;5;124m'\u001b[39m\u001b[38;5;124mt let you open fd=\u001b[39m\u001b[38;5;132;01m{\u001b[39;00mfile\u001b[38;5;132;01m}\u001b[39;00m\u001b[38;5;124m by default \u001b[39m\u001b[38;5;124m\"\u001b[39m\n\u001b[0;32m    280\u001b[0m         \u001b[38;5;124m\"\u001b[39m\u001b[38;5;124mas it is likely to crash IPython. If you know what you are doing, \u001b[39m\u001b[38;5;124m\"\u001b[39m\n\u001b[0;32m    281\u001b[0m         \u001b[38;5;124m\"\u001b[39m\u001b[38;5;124myou can use builtins\u001b[39m\u001b[38;5;124m'\u001b[39m\u001b[38;5;124m open.\u001b[39m\u001b[38;5;124m\"\u001b[39m\n\u001b[0;32m    282\u001b[0m     )\n\u001b[1;32m--> 284\u001b[0m \u001b[38;5;28;01mreturn\u001b[39;00m \u001b[43mio_open\u001b[49m\u001b[43m(\u001b[49m\u001b[43mfile\u001b[49m\u001b[43m,\u001b[49m\u001b[43m \u001b[49m\u001b[38;5;241;43m*\u001b[39;49m\u001b[43margs\u001b[49m\u001b[43m,\u001b[49m\u001b[43m \u001b[49m\u001b[38;5;241;43m*\u001b[39;49m\u001b[38;5;241;43m*\u001b[39;49m\u001b[43mkwargs\u001b[49m\u001b[43m)\u001b[49m\n",
      "\u001b[1;31mFileNotFoundError\u001b[0m: [Errno 2] No such file or directory: 'arthur-conan-doyle.tok.train.n1.pkl'"
     ]
    }
   ],
   "source": [
    "# Load pre-built n-gram languae models\n",
    "model_unigram = NGramLM('arthur-conan-doyle.tok.train.n1.pkl')\n",
    "model_bigram = NGramLM('arthur-conan-doyle.tok.train.n2.pkl')\n",
    "model_trigram = NGramLM('arthur-conan-doyle.tok.train.n3.pkl')\n",
    "model_4gram = NGramLM('arthur-conan-doyle.tok.train.n4.pkl')\n",
    "model_5gram = NGramLM('arthur-conan-doyle.tok.train.n5.pkl')"
   ]
  },
  {
   "cell_type": "markdown",
   "id": "ea08ea37-8136-488b-b730-f93667b38ff4",
   "metadata": {},
   "source": [
    "Now it's time to see how well these models fit our data! We'll use Perplexity for this calculation, but it's up to you to implement it below.\n",
    "\n",
    "Recall the formula for perplexity from the lecture:\n",
    "\n",
    "$$\n",
    "perplexity = 2^{\\frac{-1}{n}\\sum \\log_2(P(w_i|w_{<i}))}\n",
    "$$\n",
    "\n",
    "Hint: you'll want to use the [`math.log2`](https://docs.python.org/3/library/math.html#math.log2) function"
   ]
  },
  {
   "cell_type": "code",
   "execution_count": null,
   "id": "7f434ed3-ee2c-42cb-b86e-d758e53a6d0c",
   "metadata": {},
   "outputs": [],
   "source": [
    "from typing import List, Tuple\n",
    "def perplexity(model: NGramLM, texts: List[Tuple[str]]) -> float:\n",
    "    text_list =[]\n",
    "    for tup in texts:\n",
    "        text_list.append(list(tup))\n",
    "    final_token = [l for sublist in text_list for l in sublist]\n",
    "    prob_res = model.get_prob(texts, tuple(final_token))\n",
    "    return prob_res\n",
    "# Example:\n",
    "perplexity(model_unigram, [('My', 'dear', 'Watson', '.'), ('Come', 'over', 'here', '!')])"
   ]
  },
  {
   "cell_type": "code",
   "execution_count": null,
   "id": "e8d10533-0c7a-4f4e-9ab8-103bf4ccb4a9",
   "metadata": {},
   "outputs": [],
   "source": []
  },
  {
   "cell_type": "code",
   "execution_count": null,
   "id": "8210c00e-a5b5-4d36-a246-15c8f14bb85d",
   "metadata": {},
   "outputs": [],
   "source": []
  }
 ],
 "metadata": {
  "kernelspec": {
   "display_name": "Python 3 (ipykernel)",
   "language": "python",
   "name": "python3"
  },
  "language_info": {
   "codemirror_mode": {
    "name": "ipython",
    "version": 3
   },
   "file_extension": ".py",
   "mimetype": "text/x-python",
   "name": "python",
   "nbconvert_exporter": "python",
   "pygments_lexer": "ipython3",
   "version": "3.8.20"
  }
 },
 "nbformat": 4,
 "nbformat_minor": 5
}
